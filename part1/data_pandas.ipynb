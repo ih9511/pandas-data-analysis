{
 "cells": [
  {
   "cell_type": "markdown",
   "metadata": {},
   "source": [
    "## Pandas 시작"
   ]
  },
  {
   "cell_type": "markdown",
   "metadata": {},
   "source": [
    "### Dictionary to Series\n",
    "데이터프레임은 Series로 이루어져 있음. Dictionary로 이루어진 데이터를 Series로 바꾸는 방법에 대해 알아보자."
   ]
  },
  {
   "cell_type": "code",
   "execution_count": 8,
   "metadata": {},
   "outputs": [
    {
     "name": "stdout",
     "output_type": "stream",
     "text": [
      "<class 'pandas.core.series.Series'>\n",
      "a    [1, 2]\n",
      "b         2\n",
      "c         a\n",
      "d         4\n",
      "dtype: object\n",
      "<class 'pandas.core.series.Series'>\n",
      "0    2020-02-02\n",
      "1          3.14\n",
      "2           ABC\n",
      "3           100\n",
      "4          True\n",
      "dtype: object\n"
     ]
    }
   ],
   "source": [
    "import pandas as pd\n",
    "\n",
    "# 인덱스가 명시되어 있는 dict 자료형의 경우에 Series로 변환 시 인덱스가 그대로 적용됨.\n",
    "dict = {\"a\": [1, 2], \"b\": 2, \"c\": \"a\", \"d\": 4}\n",
    "dict_sr = pd.Series(dict)\n",
    "\n",
    "print(type(dict_sr))\n",
    "print(dict_sr)\n",
    "\n",
    "# 인덱스가 숨겨져있는 list 자료형의 경우에 Series로 변환 시 자동으로 인덱싱이 진행됨.\n",
    "list_data = [\"2020-02-02\", 3.14, \"ABC\", 100, True]\n",
    "list_sr = pd.Series(list_data)\n",
    "\n",
    "print(type(list_sr))\n",
    "print(list_sr)"
   ]
  },
  {
   "cell_type": "code",
   "execution_count": 11,
   "metadata": {},
   "outputs": [
    {
     "name": "stdout",
     "output_type": "stream",
     "text": [
      "Index of dict_sr = Index(['a', 'b', 'c', 'd'], dtype='object')\n",
      "Values of dict_sr = [list([1, 2]) 2 'a' 4]\n",
      "\n",
      "Index of list_sr = RangeIndex(start=0, stop=5, step=1)\n",
      "Values of list_sr = ['2020-02-02' 3.14 'ABC' 100 True]\n"
     ]
    }
   ],
   "source": [
    "# 인덱스 배열은\n",
    "dict_idx = dict_sr.index\n",
    "dict_val = dict_sr.values\n",
    "\n",
    "list_idx = list_sr.index\n",
    "list_val = list_sr.values\n",
    "\n",
    "print(\"Index of dict_sr =\", dict_idx)\n",
    "print(\"Values of dict_sr =\", dict_val)\n",
    "print(\"\")\n",
    "print(\"Index of list_sr =\", list_idx)\n",
    "print(\"Values of list_sr =\", list_val)"
   ]
  },
  {
   "cell_type": "code",
   "execution_count": 16,
   "metadata": {},
   "outputs": [
    {
     "name": "stdout",
     "output_type": "stream",
     "text": [
      "이름              영인\n",
      "생년월일    2020-02-02\n",
      "성별               여\n",
      "학생여부          True\n",
      "dtype: object\n",
      "\n",
      "영인\n",
      "영인\n",
      "\n",
      "생년월일    2020-02-02\n",
      "성별               여\n",
      "dtype: object\n",
      "\n",
      "생년월일    2020-02-02\n",
      "성별               여\n",
      "dtype: object\n",
      "\n",
      "생년월일    2020-02-02\n",
      "dtype: object\n",
      "\n",
      "생년월일    2020-02-02\n",
      "성별               여\n",
      "학생여부          True\n",
      "dtype: object\n"
     ]
    },
    {
     "name": "stderr",
     "output_type": "stream",
     "text": [
      "C:\\Users\\USER\\AppData\\Local\\Temp\\ipykernel_11260\\141598628.py:8: FutureWarning: Series.__getitem__ treating keys as positions is deprecated. In a future version, integer keys will always be treated as labels (consistent with DataFrame behavior). To access a value by position, use `ser.iloc[pos]`\n",
      "  print(tup_sr[0])        # sr의 첫 번째 원소를 선택 (정수형 위치 인덱스 활용)\n",
      "C:\\Users\\USER\\AppData\\Local\\Temp\\ipykernel_11260\\141598628.py:13: FutureWarning: Series.__getitem__ treating keys as positions is deprecated. In a future version, integer keys will always be treated as labels (consistent with DataFrame behavior). To access a value by position, use `ser.iloc[pos]`\n",
      "  print(tup_sr[[1, 2]])   # Series[[1, 3, 4]] 이런 식으로 이중 대괄호 사용\n"
     ]
    }
   ],
   "source": [
    "# Tuple to Series\n",
    "tup_data = (\"영인\", \"2020-02-02\", \"여\", True)\n",
    "tup_sr = pd.Series(tup_data, index=[\"이름\", \"생년월일\", \"성별\", \"학생여부\"])\n",
    "print(tup_sr)\n",
    "print(\"\")\n",
    "\n",
    "# 원소를 1개 선택하려면?\n",
    "print(tup_sr[0])  # sr의 첫 번째 원소를 선택 (정수형 위치 인덱스 활용)\n",
    "print(tup_sr[\"이름\"])  # \"이름\" 라벨을 가진 원소를 선택 (인덱스 이름 활용)\n",
    "print(\"\")\n",
    "\n",
    "# 여러 개의 원소를 선택하려면? (인덱스 리스트 활용)\n",
    "print(tup_sr[[1, 2]])  # Series[[1, 3, 4]] 이런 식으로 이중 대괄호 사용\n",
    "print(\"\")\n",
    "print(tup_sr[[\"생년월일\", \"성별\"]])\n",
    "print(\"\")\n",
    "\n",
    "# 여러 개의 원소를 선택하려면? (인덱스 범위 지정)\n",
    "print(tup_sr[1:2])  # 슬라이싱은 Series[1:5] 이런 식으로 단일 대괄호로\n",
    "print(\"\")\n",
    "print(tup_sr[\"생년월일\":\"학생여부\"])"
   ]
  },
  {
   "cell_type": "code",
   "execution_count": 19,
   "metadata": {},
   "outputs": [
    {
     "name": "stdout",
     "output_type": "stream",
     "text": [
      "<class 'pandas.core.frame.DataFrame'>\n",
      "   c0  c1  c2  c3  c4\n",
      "0   1   4   7  10  13\n",
      "1   2   5   8  11  14\n",
      "2   3   6   9  12  15\n"
     ]
    }
   ],
   "source": [
    "# 열 이름을 key로 하고, 리스트를 value로 갖는 dictionary 정의 (2차원 배열)\n",
    "dict_data1 = {\n",
    "    \"c0\": [1, 2, 3],\n",
    "    \"c1\": [4, 5, 6],\n",
    "    \"c2\": [7, 8, 9],\n",
    "    \"c3\": [10, 11, 12],\n",
    "    \"c4\": [13, 14, 15],\n",
    "}\n",
    "\n",
    "# Pandas DataFrame() 함수로 dictonary를 dataframe으로 변환합니다.\n",
    "dict_df1 = pd.DataFrame(dict_data1)\n",
    "\n",
    "print(type(dict_df1))\n",
    "print(dict_df1)"
   ]
  },
  {
   "cell_type": "code",
   "execution_count": 23,
   "metadata": {},
   "outputs": [
    {
     "name": "stdout",
     "output_type": "stream",
     "text": [
      "인덱스, 컬럼 명 지정X\n",
      "    0  1    2\n",
      "0  15  남  덕영중\n",
      "1  17  여  수리중\n"
     ]
    }
   ],
   "source": [
    "dict_data2 = [[15, \"남\", \"덕영중\"], [17, \"여\", \"수리중\"]]\n",
    "\n",
    "# 직접 인덱스와 컬럼 명을 지정하지 않았을 때\n",
    "dict_df2 = pd.DataFrame(\n",
    "    dict_data2,\n",
    "    # index=[\"준서\", \"예은\"],\n",
    "    # columns=[\"나이\", \"성별\", \"학교\"]\n",
    ")\n",
    "\n",
    "print(\"인덱스, 컬럼 명 지정X\")\n",
    "print(dict_df2)"
   ]
  },
  {
   "cell_type": "code",
   "execution_count": 24,
   "metadata": {},
   "outputs": [
    {
     "name": "stdout",
     "output_type": "stream",
     "text": [
      "인덱스, 컬럼 명 지정O\n",
      "    나이 성별   학교\n",
      "준서  15  남  덕영중\n",
      "예은  17  여  수리중\n"
     ]
    }
   ],
   "source": [
    "# 직접 인덱스와 컬럼 명을 지정하였을 때\n",
    "dict_df2 = pd.DataFrame(\n",
    "    dict_data2,\n",
    "    index=[\"준서\", \"예은\"],\n",
    "    columns=[\"나이\", \"성별\", \"학교\"]\n",
    ")\n",
    "\n",
    "print(\"인덱스, 컬럼 명 지정O\")\n",
    "print(dict_df2)\n",
    "\n",
    "# 사실 동일한 column을 가지는 아주 아주 많은 데이터를 다루는 경우가 많기 때문에 보통은 columns 만 지정해주는 경우가 많음."
   ]
  },
  {
   "cell_type": "code",
   "execution_count": 25,
   "metadata": {},
   "outputs": [
    {
     "data": {
      "text/html": [
       "<div>\n",
       "<style scoped>\n",
       "    .dataframe tbody tr th:only-of-type {\n",
       "        vertical-align: middle;\n",
       "    }\n",
       "\n",
       "    .dataframe tbody tr th {\n",
       "        vertical-align: top;\n",
       "    }\n",
       "\n",
       "    .dataframe thead th {\n",
       "        text-align: right;\n",
       "    }\n",
       "</style>\n",
       "<table border=\"1\" class=\"dataframe\">\n",
       "  <thead>\n",
       "    <tr style=\"text-align: right;\">\n",
       "      <th></th>\n",
       "      <th>연령</th>\n",
       "      <th>남녀</th>\n",
       "      <th>소속</th>\n",
       "    </tr>\n",
       "  </thead>\n",
       "  <tbody>\n",
       "    <tr>\n",
       "      <th>학생1</th>\n",
       "      <td>15</td>\n",
       "      <td>남</td>\n",
       "      <td>덕영중</td>\n",
       "    </tr>\n",
       "    <tr>\n",
       "      <th>학생2</th>\n",
       "      <td>17</td>\n",
       "      <td>여</td>\n",
       "      <td>수리중</td>\n",
       "    </tr>\n",
       "  </tbody>\n",
       "</table>\n",
       "</div>"
      ],
      "text/plain": [
       "     연령 남녀   소속\n",
       "학생1  15  남  덕영중\n",
       "학생2  17  여  수리중"
      ]
     },
     "execution_count": 25,
     "metadata": {},
     "output_type": "execute_result"
    }
   ],
   "source": [
    "# 원래 인덱스와 컬럼 명을 직접 변경하려면?\n",
    "dict_df2.index = ['학생1', '학생2']\n",
    "dict_df2.columns = ['연령', '남녀', '소속']\n",
    "dict_df2"
   ]
  },
  {
   "cell_type": "code",
   "execution_count": 33,
   "metadata": {},
   "outputs": [
    {
     "name": "stdout",
     "output_type": "stream",
     "text": [
      "inplace = False\n",
      "     나이 성별   학교\n",
      "학생1  15  남  덕영중\n",
      "학생2  17  여  수리중\n",
      "\n",
      "     연령 남녀   소속\n",
      "학생1  15  남  덕영중\n",
      "학생2  17  여  수리중\n",
      "\n",
      "inplace = True\n",
      "     나이 성별   학교\n",
      "학생1  15  남  덕영중\n",
      "학생2  17  여  수리중\n",
      "\n"
     ]
    }
   ],
   "source": [
    "# 직접 변경 방법 추가 (df.rename)\n",
    "temp_df = dict_df2.rename(\n",
    "    columns={\"연령\": \"나이\", \"남녀\": \"성별\", \"소속\": \"학교\"}, inplace=False\n",
    ")  # inplace가 True이면 원본 수정, False면 출력할 때만 잠시 변환\n",
    "print(\"inplace = False\")\n",
    "print(temp_df)\n",
    "print(\"\")\n",
    "print(dict_df2)\n",
    "print(\"\")\n",
    "\n",
    "dict_df2.rename(columns={\"연령\": \"나이\", \"남녀\": \"성별\", \"소속\": \"학교\"}, inplace=True)\n",
    "print(\"inplace = True\")\n",
    "print(dict_df2)\n",
    "print(\"\")"
   ]
  },
  {
   "cell_type": "code",
   "execution_count": 46,
   "metadata": {},
   "outputs": [
    {
     "name": "stdout",
     "output_type": "stream",
     "text": [
      "   이름  수학  영어   음악   체육\n",
      "0  서준  90  98   85  100\n",
      "1  우현  80  89   95   90\n",
      "2  인아  70  95  100   90\n",
      "\n",
      "0    90\n",
      "1    80\n",
      "2    70\n",
      "Name: 수학, dtype: int64\n",
      "<class 'pandas.core.series.Series'>\n",
      "\n",
      "0    98\n",
      "1    89\n",
      "2    95\n",
      "Name: 영어, dtype: int64\n",
      "<class 'pandas.core.series.Series'>\n",
      "\n",
      "    음악   체육\n",
      "0   85  100\n",
      "1   95   90\n",
      "2  100   90\n",
      "<class 'pandas.core.frame.DataFrame'>\n",
      "\n"
     ]
    }
   ],
   "source": [
    "# 특정 데이터만 선택.\n",
    "exam_data = {\n",
    "    \"이름\": [\"서준\", \"우현\", \"인아\"],\n",
    "    \"수학\": [90, 80, 70],\n",
    "    \"영어\": [98, 89, 95],\n",
    "    \"음악\": [85, 95, 100],\n",
    "    \"체육\": [100, 90, 90],\n",
    "}\n",
    "df = pd.DataFrame(exam_data)\n",
    "print(df)\n",
    "print(\"\")\n",
    "\n",
    "# 하나의 column만 뽑아오는 경우에, 해당 데이터는 Series 타입이 됨.\n",
    "# 수학 점수 데이터만 선택, 변수 math1에 저장\n",
    "math1 = df[\"수학\"]\n",
    "print(math1)\n",
    "print(type(math1))\n",
    "print(\"\")\n",
    "\n",
    "# 영어 점수 데이터만 선택, 변수 english에 저장\n",
    "english = df[\"영어\"]\n",
    "print(english)\n",
    "print(type(english))\n",
    "print(\"\")\n",
    "\n",
    "# 여러 개의 column을 뽑아오는 경우에, 대괄호를 이중으로 묶어주고 해당 데이터는 DataFrame 타입이 됨.\n",
    "# 음악 , 체육 점수 데이터만 선택, 변수 music_gym에 저장\n",
    "music_gym = df[[\"음악\", \"체육\"]]\n",
    "print(music_gym)\n",
    "print(type(music_gym))\n",
    "print(\"\")"
   ]
  },
  {
   "cell_type": "code",
   "execution_count": 47,
   "metadata": {},
   "outputs": [
    {
     "name": "stdout",
     "output_type": "stream",
     "text": [
      "   이름  수학  영어   음악   체육\n",
      "0  서준  90  98   85  100\n",
      "1  우현  80  89   95   90\n",
      "2  인아  70  95  100   90\n",
      "\n",
      "    수학  영어   음악   체육\n",
      "이름                  \n",
      "서준  90  98   85  100\n",
      "우현  80  89   95   90\n",
      "인아  70  95  100   90\n",
      "\n"
     ]
    }
   ],
   "source": [
    "# 이름 열을 새로운 인덱스로 지정하고, df 객체에 변경사항 반영\n",
    "# 바꿔 말하면, 인덱스를 이름으로 바꿔주는 것.\n",
    "print(df)\n",
    "print(\"\")\n",
    "\n",
    "df.set_index(\"이름\", inplace=True)\n",
    "print(df)\n",
    "print(\"\")"
   ]
  },
  {
   "cell_type": "code",
   "execution_count": 48,
   "metadata": {},
   "outputs": [
    {
     "name": "stdout",
     "output_type": "stream",
     "text": [
      "서준의 음악 점수 = 85\n",
      "위와 동일 = 85\n",
      "\n",
      "서준의 음악, 체육 점수 = 음악     85\n",
      "체육    100\n",
      "Name: 서준, dtype: int64\n",
      "위와 동일 = 음악     85\n",
      "체육    100\n",
      "Name: 서준, dtype: int64\n",
      "위와 동일 = 음악     85\n",
      "체육    100\n",
      "Name: 서준, dtype: int64\n",
      "위와 동일 = 음악     85\n",
      "체육    100\n",
      "Name: 서준, dtype: int64\n",
      "\n"
     ]
    }
   ],
   "source": [
    "# df에서 특정 원소 선택\n",
    "a = df.loc[\"서준\", \"음악\"]  # df.loc['row', 'column']\n",
    "print('서준의 음악 점수 =', a)\n",
    "b = df.iloc[0, 2]\n",
    "print('위와 동일 =', b)\n",
    "print('')\n",
    "\n",
    "# df에서 특정 원소 여러개 선택\n",
    "c = df.loc['서준', ['음악', '체육']]\n",
    "print('서준의 음악, 체육 점수 =', c)\n",
    "d = df.iloc[0, [2, 3]]\n",
    "print('위와 동일 =', d)\n",
    "e = df.loc['서준', '음악':'체육']\n",
    "print('위와 동일 =', e)\n",
    "f = df.iloc[0, 2 :]\n",
    "print('위와 동일 =', f)\n",
    "print('')"
   ]
  },
  {
   "cell_type": "code",
   "execution_count": 52,
   "metadata": {},
   "outputs": [
    {
     "name": "stdout",
     "output_type": "stream",
     "text": [
      "      0   1    2\n",
      "이름   서준  우현   인아\n",
      "수학   90  80   70\n",
      "영어   98  89   95\n",
      "음악   85  95  100\n",
      "체육  100  90   90\n",
      "\n",
      "   이름  수학  영어   음악   체육\n",
      "0  서준  90  98   85  100\n",
      "1  우현  80  89   95   90\n",
      "2  인아  70  95  100   90\n"
     ]
    }
   ],
   "source": [
    "exam_data = {\n",
    "    \"이름\": [\"서준\", \"우현\", \"인아\"],\n",
    "    \"수학\": [90, 80, 70],\n",
    "    \"영어\": [98, 89, 95],\n",
    "    \"음악\": [85, 95, 100],\n",
    "    \"체육\": [100, 90, 90],\n",
    "}\n",
    "df = pd.DataFrame(exam_data)\n",
    "\n",
    "# df를 전치하기 (메소드 활용)\n",
    "df = df.transpose()\n",
    "print(df)\n",
    "print(\"\")\n",
    "\n",
    "# df를 전치하기 (클래스 속성 활용)\n",
    "df = df.T\n",
    "print(df)"
   ]
  },
  {
   "cell_type": "code",
   "execution_count": 1,
   "metadata": {},
   "outputs": [],
   "source": [
    "# sklearn 라이브러리\n",
    "from sklearn import preprocessing"
   ]
  },
  {
   "cell_type": "code",
   "execution_count": 2,
   "metadata": {},
   "outputs": [],
   "source": [
    "# 전처리를 위한 encoder 객체 만들기\n",
    "label_encoder = preprocessing.LabelEncoder()\n",
    "onehot_encoder = preprocessing.OneHotEncoder()"
   ]
  },
  {
   "cell_type": "markdown",
   "metadata": {},
   "source": [
    "- LabelEncoder(): 계산할 수 있는 변수로 바꿔줌.\n",
    "- OneHotEncoder(): 명목변수를 더미변수로 바꿔줌. 열 늘어남."
   ]
  },
  {
   "cell_type": "markdown",
   "metadata": {},
   "source": [
    "## fit\n",
    "- 실제 학습이 이루어지는 부분에서 등장하는 fit이 있음.\n",
    "- 반대로 전처리가 이루어지는 부분에서 등장하는 fit도 존재함."
   ]
  },
  {
   "cell_type": "markdown",
   "metadata": {},
   "source": []
  }
 ],
 "metadata": {
  "kernelspec": {
   "display_name": "base",
   "language": "python",
   "name": "python3"
  },
  "language_info": {
   "codemirror_mode": {
    "name": "ipython",
    "version": 3
   },
   "file_extension": ".py",
   "mimetype": "text/x-python",
   "name": "python",
   "nbconvert_exporter": "python",
   "pygments_lexer": "ipython3",
   "version": "3.12.3"
  }
 },
 "nbformat": 4,
 "nbformat_minor": 2
}
